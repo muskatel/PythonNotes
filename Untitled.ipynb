{
 "cells": [
  {
   "cell_type": "code",
   "execution_count": 5,
   "metadata": {},
   "outputs": [],
   "source": [
    "from pylab import *\n",
    "from scipy.optimize import curve_fit\n",
    "\n",
    "# fake data\n",
    "x = arange(0, 30)\n",
    "y = x + 5*np.random.normal(size=len(x))\n",
    "\n",
    "# fit\n",
    "f = lambda x, *p: polyval(p, x)\n",
    "p, cov = curve_fit(f, x, y, [1, 1])"
   ]
  },
  {
   "cell_type": "code",
   "execution_count": 6,
   "metadata": {},
   "outputs": [
    {
     "data": {
      "text/plain": [
       "[<matplotlib.lines.Line2D at 0x9d73f28>]"
      ]
     },
     "execution_count": 6,
     "metadata": {},
     "output_type": "execute_result"
    }
   ],
   "source": [
    "# simulated draws from the probability density function of the regression\n",
    "xi = linspace(np.min(x), np.max(x), 100)\n",
    "ps = np.random.multivariate_normal(p, cov, 10000)\n",
    "ysample = np.asarray([f(xi, *pi) for pi in ps])\n",
    "lower = percentile(ysample, 2.5, axis=0)\n",
    "upper = percentile(ysample, 97.5, axis=0)\n",
    "\n",
    "# regression estimate line\n",
    "y_fit = poly1d(p)(xi)\n",
    "\n",
    "# plot\n",
    "plot(x, y, 'bo')\n",
    "plot(xi, y_fit, 'r-')\n",
    "plot(xi, lower, 'b--')\n",
    "plot(xi, upper, 'b--')"
   ]
  },
  {
   "cell_type": "code",
   "execution_count": null,
   "metadata": {
    "collapsed": true
   },
   "outputs": [],
   "source": []
  }
 ],
 "metadata": {
  "kernelspec": {
   "display_name": "Python 2",
   "language": "python",
   "name": "python2"
  },
  "language_info": {
   "codemirror_mode": {
    "name": "ipython",
    "version": 2
   },
   "file_extension": ".py",
   "mimetype": "text/x-python",
   "name": "python",
   "nbconvert_exporter": "python",
   "pygments_lexer": "ipython2",
   "version": "2.7.13"
  }
 },
 "nbformat": 4,
 "nbformat_minor": 2
}
