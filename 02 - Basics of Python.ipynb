{
 "cells": [
  {
   "cell_type": "markdown",
   "metadata": {},
   "source": [
    "\n",
    "\n",
    "\n"
   ]
  },
  {
   "cell_type": "code",
   "execution_count": 1,
   "metadata": {},
   "outputs": [
    {
     "name": "stdout",
     "output_type": "stream",
     "text": [
      "Hello World\n"
     ]
    }
   ],
   "source": [
    "print \"Hello World\""
   ]
  },
  {
   "cell_type": "markdown",
   "metadata": {},
   "source": [
    "## FizzBuzz in Python\n",
    "\n",
    "### Problem:\n",
    "For each number from one to hundred, output the word \"Fizz\" if it is divisible by three, output the word \"Buzz\" if it is divisible by five, and output \"FizzBuzz\" if it is divisible by both three and five. If it's not divisible by any of the above, then output the number.\n",
    "### Code Solution:\n",
    "(From 1 to 20 for brevity)"
   ]
  },
  {
   "cell_type": "code",
   "execution_count": 9,
   "metadata": {},
   "outputs": [
    {
     "name": "stdout",
     "output_type": "stream",
     "text": [
      "1\n",
      "2\n",
      "Fizz\n",
      "4\n",
      "Buzz\n",
      "Fizz\n",
      "7\n",
      "8\n",
      "Fizz\n",
      "Buzz\n",
      "11\n",
      "Fizz\n",
      "13\n",
      "14\n",
      "FizzBuzz\n",
      "16\n",
      "17\n",
      "Fizz\n",
      "19\n"
     ]
    }
   ],
   "source": [
    "for i in range(1,20):\n",
    "    if (i %3 ==0 and i % 5 == 0):\n",
    "        print \"FizzBuzz\"\n",
    "    elif (i % 3 == 0):\n",
    "        print \"Fizz\"\n",
    "    elif (i % 5 == 0):\n",
    "        print \"Buzz\"\n",
    "    else:\n",
    "        print i"
   ]
  },
  {
   "cell_type": "markdown",
   "metadata": {},
   "source": [
    "## Analysis of Code:\n",
    "### Basic code structure\n",
    "Python does not uses braces {}, instead it uses tabs to denote nesting.\n",
    "This is demonstrated in both the for statement and the if / elif statements\n",
    "\n",
    "We can see that all of the conditionals are tabbed to the same amount below the for statement, thus they are all within that for. Each conditional also has a print statement nested within it.\n",
    "\n",
    "We can start a new block by moving back one tab.\n",
    "\n",
    "### for loop\n",
    "The basic for loop uses a stucture as follows:"
   ]
  },
  {
   "cell_type": "code",
   "execution_count": null,
   "metadata": {
    "collapsed": true
   },
   "outputs": [],
   "source": [
    "for x in y:\n",
    "    do this"
   ]
  },
  {
   "cell_type": "markdown",
   "metadata": {},
   "source": [
    "x is a variable which will have a type determined by y.\n",
    "\n",
    "y is an enumerable collection of items. (They need not be of the same type)\n",
    "\n",
    "### if and elif statements\n",
    "These are as you should expect, except that \"elif\" replaces \"else if\"\n",
    "### print statement\n",
    "This will print what preceeds it, either a variable or a string.\n",
    "This is where Python 2.7 will differ from 3"
   ]
  },
  {
   "cell_type": "code",
   "execution_count": 17,
   "metadata": {},
   "outputs": [
    {
     "name": "stdout",
     "output_type": "stream",
     "text": [
      "Default Print Statement:\n",
      "1\n",
      "2\n",
      "3\n",
      "Single Line Print Statements\n",
      "1 2 3\n"
     ]
    }
   ],
   "source": [
    "numbers = range(1,4)\n",
    "print \"Default Print Statement:\"\n",
    "for i in numbers:\n",
    "    print i\n",
    "print \"Single Line Print Statements:\"\n",
    "for i in numbers:\n",
    "    print i,    # Note the comma"
   ]
  },
  {
   "cell_type": "markdown",
   "metadata": {},
   "source": [
    "### Variables\n",
    "Python is a dynamically-typed language."
   ]
  },
  {
   "cell_type": "code",
   "execution_count": 25,
   "metadata": {},
   "outputs": [
    {
     "name": "stdout",
     "output_type": "stream",
     "text": [
      "bar\n",
      "barbar\n",
      "2\n",
      "4\n",
      "bar\n"
     ]
    },
    {
     "ename": "TypeError",
     "evalue": "unsupported operand type(s) for /: 'str' and 'int'",
     "output_type": "error",
     "traceback": [
      "\u001b[1;31m\u001b[0m",
      "\u001b[1;31mTypeError\u001b[0mTraceback (most recent call last)",
      "\u001b[1;32m<ipython-input-25-70d4213af379>\u001b[0m in \u001b[0;36m<module>\u001b[1;34m()\u001b[0m\n\u001b[0;32m     14\u001b[0m \u001b[1;32mprint\u001b[0m \u001b[0mfoo\u001b[0m\u001b[1;33m\u001b[0m\u001b[0m\n\u001b[0;32m     15\u001b[0m \u001b[1;33m\u001b[0m\u001b[0m\n\u001b[1;32m---> 16\u001b[1;33m \u001b[0mfoo\u001b[0m \u001b[1;33m=\u001b[0m \u001b[0mfoo\u001b[0m \u001b[1;33m/\u001b[0m \u001b[1;36m2\u001b[0m\u001b[1;33m\u001b[0m\u001b[0m\n\u001b[0m\u001b[0;32m     17\u001b[0m \u001b[1;32mprint\u001b[0m \u001b[0mfoo\u001b[0m\u001b[1;33m\u001b[0m\u001b[0m\n",
      "\u001b[1;31mTypeError\u001b[0m: unsupported operand type(s) for /: 'str' and 'int'"
     ]
    }
   ],
   "source": [
    "foo = \"bar\"\n",
    "print foo\n",
    "\n",
    "foo = foo * 2\n",
    "print foo\n",
    "\n",
    "foo = 2\n",
    "print foo\n",
    "\n",
    "foo = foo * 2\n",
    "print foo\n",
    "\n",
    "foo = \"bar\"\n",
    "print foo\n",
    "\n",
    "foo = foo / 2\n",
    "print foo"
   ]
  },
  {
   "cell_type": "markdown",
   "metadata": {},
   "source": [
    "### FizzBuzz in one line\n",
    "Why do in nine lines what you can do in one?"
   ]
  },
  {
   "cell_type": "code",
   "execution_count": 11,
   "metadata": {},
   "outputs": [
    {
     "name": "stdout",
     "output_type": "stream",
     "text": [
      "1\n",
      "2\n",
      "Fizz\n",
      "4\n",
      "Buzz\n",
      "Fizz\n",
      "7\n",
      "8\n",
      "Fizz\n",
      "Buzz\n",
      "11\n",
      "Fizz\n",
      "13\n",
      "14\n",
      "FizzBuzz\n",
      "16\n",
      "17\n",
      "Fizz\n",
      "19\n"
     ]
    }
   ],
   "source": [
    "print(\"\\n\".join([\"Fizz\"*(i%3==0)+\"Buzz\"*(i%5==0) or str(i) for i in range(1,20)]))"
   ]
  }
 ],
 "metadata": {
  "kernelspec": {
   "display_name": "Python 2",
   "language": "python",
   "name": "python2"
  },
  "language_info": {
   "codemirror_mode": {
    "name": "ipython",
    "version": 2
   },
   "file_extension": ".py",
   "mimetype": "text/x-python",
   "name": "python",
   "nbconvert_exporter": "python",
   "pygments_lexer": "ipython2",
   "version": "2.7.13"
  }
 },
 "nbformat": 4,
 "nbformat_minor": 2
}
