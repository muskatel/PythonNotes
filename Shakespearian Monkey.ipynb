{
 "cells": [
  {
   "cell_type": "code",
   "execution_count": 1,
   "metadata": {},
   "outputs": [
    {
     "ename": "NameError",
     "evalue": "name 'word' is not defined",
     "output_type": "error",
     "traceback": [
      "\u001b[1;31m---------------------------------------------------------------------------\u001b[0m",
      "\u001b[1;31mNameError\u001b[0m                                 Traceback (most recent call last)",
      "\u001b[1;32m<ipython-input-1-b0733f679497>\u001b[0m in \u001b[0;36m<module>\u001b[1;34m()\u001b[0m\n\u001b[1;32m----> 1\u001b[1;33m \u001b[1;32mclass\u001b[0m \u001b[0mMonkeyWord\u001b[0m\u001b[1;33m:\u001b[0m\u001b[1;33m\u001b[0m\u001b[0m\n\u001b[0m\u001b[0;32m      2\u001b[0m     \u001b[1;34m\"\"\"A Monkey Word class\"\"\"\u001b[0m\u001b[1;33m\u001b[0m\u001b[0m\n\u001b[0;32m      3\u001b[0m \u001b[1;33m\u001b[0m\u001b[0m\n\u001b[0;32m      4\u001b[0m     \u001b[1;32mdef\u001b[0m \u001b[0m__init__\u001b[0m\u001b[1;33m(\u001b[0m\u001b[0mself\u001b[0m\u001b[1;33m,\u001b[0m \u001b[0mword\u001b[0m\u001b[1;33m)\u001b[0m\u001b[1;33m:\u001b[0m\u001b[1;33m\u001b[0m\u001b[0m\n\u001b[0;32m      5\u001b[0m         \u001b[0mself\u001b[0m\u001b[1;33m.\u001b[0m\u001b[0mword\u001b[0m \u001b[1;33m=\u001b[0m \u001b[0mword\u001b[0m\u001b[1;33m\u001b[0m\u001b[0m\n",
      "\u001b[1;32m<ipython-input-1-b0733f679497>\u001b[0m in \u001b[0;36mMonkeyWord\u001b[1;34m()\u001b[0m\n\u001b[0;32m      5\u001b[0m         \u001b[0mself\u001b[0m\u001b[1;33m.\u001b[0m\u001b[0mword\u001b[0m \u001b[1;33m=\u001b[0m \u001b[0mword\u001b[0m\u001b[1;33m\u001b[0m\u001b[0m\n\u001b[0;32m      6\u001b[0m \u001b[1;33m\u001b[0m\u001b[0m\n\u001b[1;32m----> 7\u001b[1;33m     \u001b[1;33m@\u001b[0m\u001b[0mword\u001b[0m\u001b[1;33m.\u001b[0m\u001b[0mgetter\u001b[0m\u001b[1;33m\u001b[0m\u001b[0m\n\u001b[0m\u001b[0;32m      8\u001b[0m     \u001b[1;32mdef\u001b[0m \u001b[0mword\u001b[0m\u001b[1;33m(\u001b[0m\u001b[0mself\u001b[0m\u001b[1;33m)\u001b[0m\u001b[1;33m:\u001b[0m\u001b[1;33m\u001b[0m\u001b[0m\n\u001b[0;32m      9\u001b[0m         \u001b[1;32mreturn\u001b[0m \u001b[0mself\u001b[0m\u001b[1;33m.\u001b[0m\u001b[0mword\u001b[0m\u001b[1;33m\u001b[0m\u001b[0m\n",
      "\u001b[1;31mNameError\u001b[0m: name 'word' is not defined"
     ]
    }
   ],
   "source": [
    "class MonkeyWord:\n",
    "    \"\"\"A Monkey Word class\"\"\"\n",
    "    \n",
    "    def __init__(self, word):\n",
    "        self.word = word\n",
    "       \n",
    "    @word.getter\n",
    "    def word(self):\n",
    "        return self.word\n",
    "    \n",
    "    @word.setter\n",
    "    def word(self, word):\n",
    "        print \"setting\"\n",
    "        self.word = word.lower()\n",
    "     \n",
    "    @property\n",
    "    def length(self):\n",
    "        return len(self.__word)"
   ]
  },
  {
   "cell_type": "code",
   "execution_count": 126,
   "metadata": {},
   "outputs": [
    {
     "name": "stdout",
     "output_type": "stream",
     "text": [
      "test 4\n",
      "Cat\n"
     ]
    }
   ],
   "source": [
    "mw = MonkeyWord(\"test\")\n",
    "print mw.word, mw.length\n",
    "mw.word = \"Cat\"\n",
    "print mw.word"
   ]
  },
  {
   "cell_type": "code",
   "execution_count": 99,
   "metadata": {
    "collapsed": true
   },
   "outputs": [],
   "source": [
    "import random as rd\n",
    "\n",
    "def WordRandomizer(word):\n",
    "    \"\"\"Randomizes a single letterin the word\"\"\"\n",
    "    # pick a random letter\n",
    "    num = int(rd.random()*len(word))\n",
    "    rl = word[num]\n",
    "    # change it by one character\n",
    "    rl = chr(int(ord(rl) + ((rd.random()*2) - 1)))\n",
    "    # return the new word\n",
    "    print rl"
   ]
  },
  {
   "cell_type": "code",
   "execution_count": 101,
   "metadata": {},
   "outputs": [
    {
     "name": "stdout",
     "output_type": "stream",
     "text": [
      "Cat\n",
      "`\n",
      "s\n",
      "B\n",
      "B\n",
      "t\n",
      "t\n",
      "t\n",
      "a\n",
      "`\n",
      "t\n",
      "s\n",
      "t\n",
      "t\n",
      "C\n",
      "t\n",
      "s\n",
      "a\n",
      "`\n",
      "`\n",
      "C\n",
      "t\n",
      "B\n",
      "C\n",
      "t\n",
      "s\n",
      "s\n",
      "B\n",
      "C\n",
      "`\n",
      "C\n",
      "t\n",
      "t\n",
      "C\n",
      "a\n",
      "t\n",
      "`\n",
      "B\n",
      "t\n",
      "s\n",
      "`\n",
      "t\n",
      "s\n",
      "t\n",
      "t\n",
      "`\n",
      "`\n",
      "t\n",
      "C\n",
      "C\n",
      "a\n",
      "a\n",
      "a\n",
      "`\n",
      "B\n",
      "s\n",
      "s\n",
      "`\n",
      "t\n",
      "t\n",
      "t\n",
      "t\n",
      "`\n",
      "s\n",
      "C\n",
      "C\n",
      "t\n",
      "B\n",
      "s\n",
      "a\n",
      "B\n",
      "C\n",
      "`\n",
      "s\n",
      "`\n",
      "a\n",
      "t\n",
      "a\n",
      "B\n",
      "C\n",
      "C\n",
      "s\n",
      "a\n",
      "`\n",
      "B\n",
      "s\n",
      "C\n",
      "s\n",
      "C\n",
      "a\n",
      "B\n",
      "a\n",
      "s\n",
      "s\n",
      "B\n",
      "s\n",
      "`\n",
      "C\n",
      "a\n",
      "`\n"
     ]
    }
   ],
   "source": [
    "print mw.word\n",
    "for i in range (1,100):\n",
    "    WordRandomizer(mw.word)"
   ]
  },
  {
   "cell_type": "code",
   "execution_count": null,
   "metadata": {
    "collapsed": true
   },
   "outputs": [],
   "source": []
  },
  {
   "cell_type": "code",
   "execution_count": null,
   "metadata": {
    "collapsed": true
   },
   "outputs": [],
   "source": []
  }
 ],
 "metadata": {
  "kernelspec": {
   "display_name": "Python 2",
   "language": "python",
   "name": "python2"
  },
  "language_info": {
   "codemirror_mode": {
    "name": "ipython",
    "version": 2
   },
   "file_extension": ".py",
   "mimetype": "text/x-python",
   "name": "python",
   "nbconvert_exporter": "python",
   "pygments_lexer": "ipython2",
   "version": "2.7.13"
  }
 },
 "nbformat": 4,
 "nbformat_minor": 2
}
