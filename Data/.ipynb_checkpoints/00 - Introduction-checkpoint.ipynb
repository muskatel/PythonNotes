{
 "cells": [
  {
   "cell_type": "markdown",
   "metadata": {
    "collapsed": true
   },
   "source": [
    "# Introduction\n",
    "\n",
    "Welcome to the \"Python for AI\" course.\n",
    "\n",
    "## Why use Python?\n",
    "\n",
    "Python is an easy to use, objectect orientated langauge with great library support.\n",
    "It is both interactive (it has a console you can type into directly) and interpreted (we dont need to compile source code).\n",
    "\n",
    "We wont make much use of the interactive side, but the interpreted part will be used extensively. Coupled with the library support, we can quickly share complex python scripts (.py) between machines. \n",
    "\n",
    "For this course we're going to be doing most of the instruction in Jupyter Notebook with a short crossover to show how convert your notebooks back into Python Scripts.\n",
    "\n",
    "### Anaconda\n",
    "\n",
    "The Anaconda software we instructed you to install comes with a huge selection of common libraries, so there will be very little (or no) need to install supplementary libraries. It also comes bundles with Jupyter Notebooks.\n",
    "\n",
    "### Why use Python 2.7 instead of 3.6?\n",
    "\n",
    "In a nushell: Python 2.7.x has better library support, but Python 3.x will do things \"better\".\n",
    "\n",
    "For this course, I'll be using (and supporting) 2.7.x but you are welcome to use 3.x if you prefer.\n",
    "\n",
    "## Hello World!\n",
    "\n",
    "The next code block is the common \"Hello World!\" program, have a look at it now:"
   ]
  },
  {
   "cell_type": "code",
   "execution_count": 1,
   "metadata": {
    "collapsed": true
   },
   "outputs": [],
   "source": [
    "# Hello World! Program\n",
    "# helloworld.py\n",
    "def main():\n",
    "    print \"Hello World!\""
   ]
  },
  {
   "cell_type": "markdown",
   "metadata": {},
   "source": [
    "Actually that wont work, because in Jupyter Notebooks each code block is going to run it's code as if called from the main function anyway, so instead we write the following:"
   ]
  },
  {
   "cell_type": "code",
   "execution_count": 2,
   "metadata": {},
   "outputs": [
    {
     "name": "stdout",
     "output_type": "stream",
     "text": [
      "Hello World!\n"
     ]
    }
   ],
   "source": [
    "print \"Hello World!\""
   ]
  },
  {
   "cell_type": "markdown",
   "metadata": {},
   "source": [
    "If you have no output shown, you will need to select the above cell and click the \"run cell\" button on the toolbar.\n",
    "\n",
    "Notice that we get an output this time? Thats the beauty of Jupyter Notebooks, we can edit that piece of code quickly and check the output just as quickly. \n",
    "\n",
    "Go ahead and edit the output text now, make the program greet yourself instead. \n",
    "\n",
    "You'll need to hit the run button again when you're done.\n",
    "\n",
    "## Conclusion\n",
    "\n",
    "Thats all for this notebook, but we're going to start exploring the Python language properly in the next notebook."
   ]
  }
 ],
 "metadata": {
  "kernelspec": {
   "display_name": "Python 2",
   "language": "python",
   "name": "python2"
  },
  "language_info": {
   "codemirror_mode": {
    "name": "ipython",
    "version": 2
   },
   "file_extension": ".py",
   "mimetype": "text/x-python",
   "name": "python",
   "nbconvert_exporter": "python",
   "pygments_lexer": "ipython2",
   "version": "2.7.13"
  }
 },
 "nbformat": 4,
 "nbformat_minor": 2
}
