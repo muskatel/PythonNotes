{
 "cells": [
  {
   "cell_type": "markdown",
   "metadata": {},
   "source": [
    "# Consider the following program and outputs"
   ]
  },
  {
   "cell_type": "code",
   "execution_count": 69,
   "metadata": {},
   "outputs": [],
   "source": [
    "marks = {}\n",
    "# marks is a dictionary with the\n",
    "# Stundent number as key, with a \n",
    "# set of three test results as the value\n",
    "marks[\"18001\"] = (80, 75, 45)\n",
    "marks[\"18541\"] = (32, 51, 89)\n",
    "marks[\"18042\"] = (75, 74, 73)\n",
    "marks[\"18999\"] = (23, 84, 89)\n",
    "marks[\"18720\"] = (52, 61, 43)\n",
    "\n",
    "names = {}\n",
    "names[\"18001\"] = \"Joe\"\n",
    "names[\"18541\"] = \"Vuyo\"\n",
    "names[\"18042\"] = \"George\"\n",
    "names[\"18999\"] = \"Kabelo\"\n",
    "names[\"18720\"] = \"Ulrik\""
   ]
  },
  {
   "cell_type": "code",
   "execution_count": 70,
   "metadata": {},
   "outputs": [
    {
     "data": {
      "text/plain": [
       "{'18001': (80, 75, 45),\n",
       " '18042': (75, 74, 73),\n",
       " '18541': (32, 51, 89),\n",
       " '18720': (52, 61, 43),\n",
       " '18999': (23, 84, 89)}"
      ]
     },
     "execution_count": 70,
     "metadata": {},
     "output_type": "execute_result"
    }
   ],
   "source": [
    "marks"
   ]
  },
  {
   "cell_type": "code",
   "execution_count": 63,
   "metadata": {},
   "outputs": [
    {
     "name": "stdout",
     "output_type": "stream",
     "text": [
      "18042 : 74\n",
      "18541 : 57\n",
      "18001 : 66\n",
      "18720 : 52\n",
      "18999 : 65\n"
     ]
    }
   ],
   "source": [
    "for student, results in marks.items():\n",
    "    print student, \":\", sum(results)/3"
   ]
  },
  {
   "cell_type": "code",
   "execution_count": 64,
   "metadata": {},
   "outputs": [
    {
     "data": {
      "text/plain": [
       "5"
      ]
     },
     "execution_count": 64,
     "metadata": {},
     "output_type": "execute_result"
    }
   ],
   "source": [
    "len(marks)"
   ]
  },
  {
   "cell_type": "code",
   "execution_count": 65,
   "metadata": {},
   "outputs": [
    {
     "data": {
      "text/plain": [
       "61"
      ]
     },
     "execution_count": 65,
     "metadata": {},
     "output_type": "execute_result"
    }
   ],
   "source": [
    "marks['18720'][1]"
   ]
  },
  {
   "cell_type": "code",
   "execution_count": 78,
   "metadata": {},
   "outputs": [
    {
     "data": {
      "text/plain": [
       "{'18001': 'Joe',\n",
       " '18042': 'George',\n",
       " '18541': 'Vuyo',\n",
       " '18720': 'Ulrik',\n",
       " '18999': 'Kabelo'}"
      ]
     },
     "execution_count": 78,
     "metadata": {},
     "output_type": "execute_result"
    }
   ],
   "source": [
    "names"
   ]
  },
  {
   "cell_type": "code",
   "execution_count": 77,
   "metadata": {},
   "outputs": [
    {
     "name": "stdout",
     "output_type": "stream",
     "text": [
      "18541\n"
     ]
    }
   ],
   "source": [
    "for stdNum, name in names.items():\n",
    "    if name == \"Vuyo\":\n",
    "        print stdNum"
   ]
  },
  {
   "cell_type": "code",
   "execution_count": 82,
   "metadata": {},
   "outputs": [
    {
     "name": "stdout",
     "output_type": "stream",
     "text": [
      "George (75, 74, 73) 74.0\n",
      "Vuyo (32, 51, 89) 57.3333333333\n",
      "Joe (80, 75, 45) 66.6666666667\n",
      "Ulrik (52, 61, 43) 52.0\n",
      "Kabelo (23, 84, 89) 65.3333333333\n"
     ]
    }
   ],
   "source": [
    "for stdNum, name in names.items():\n",
    "    print name, marks[stdNum], sum(marks[stdNum])/3.0"
   ]
  },
  {
   "cell_type": "markdown",
   "metadata": {},
   "source": [
    "# Now answer the following:"
   ]
  },
  {
   "cell_type": "markdown",
   "metadata": {},
   "source": [
    "Calculate the class average to two deciaml places"
   ]
  },
  {
   "cell_type": "code",
   "execution_count": 88,
   "metadata": {},
   "outputs": [
    {
     "name": "stdout",
     "output_type": "stream",
     "text": [
      "63.0666666667\n"
     ]
    }
   ],
   "source": [
    "total = 0\n",
    "for stdNum, name in names.items():\n",
    "    total += sum(marks[stdNum])/3.0\n",
    "average = total / len(names)\n",
    "print average"
   ]
  },
  {
   "cell_type": "markdown",
   "metadata": {},
   "source": [
    "Print a list of student names who achieved above avergae results"
   ]
  },
  {
   "cell_type": "code",
   "execution_count": null,
   "metadata": {
    "collapsed": true
   },
   "outputs": [],
   "source": []
  },
  {
   "cell_type": "markdown",
   "metadata": {},
   "source": [
    "How would we check that we have a and equal number of names and marks?"
   ]
  },
  {
   "cell_type": "code",
   "execution_count": 90,
   "metadata": {},
   "outputs": [
    {
     "name": "stdout",
     "output_type": "stream",
     "text": [
      "True\n"
     ]
    }
   ],
   "source": [
    "print len(marks) == len(names)"
   ]
  },
  {
   "cell_type": "markdown",
   "metadata": {},
   "source": [
    "A Question"
   ]
  },
  {
   "cell_type": "code",
   "execution_count": null,
   "metadata": {
    "collapsed": true
   },
   "outputs": [],
   "source": []
  },
  {
   "cell_type": "markdown",
   "metadata": {},
   "source": [
    "How would we print the third test mark for the student with student number \"18999\"?"
   ]
  },
  {
   "cell_type": "code",
   "execution_count": 89,
   "metadata": {},
   "outputs": [
    {
     "data": {
      "text/plain": [
       "89"
      ]
     },
     "execution_count": 89,
     "metadata": {},
     "output_type": "execute_result"
    }
   ],
   "source": [
    "marks['18999'][2]"
   ]
  },
  {
   "cell_type": "code",
   "execution_count": null,
   "metadata": {
    "collapsed": true
   },
   "outputs": [],
   "source": []
  }
 ],
 "metadata": {
  "kernelspec": {
   "display_name": "Python 2",
   "language": "python",
   "name": "python2"
  },
  "language_info": {
   "codemirror_mode": {
    "name": "ipython",
    "version": 2
   },
   "file_extension": ".py",
   "mimetype": "text/x-python",
   "name": "python",
   "nbconvert_exporter": "python",
   "pygments_lexer": "ipython2",
   "version": "2.7.13"
  }
 },
 "nbformat": 4,
 "nbformat_minor": 2
}
