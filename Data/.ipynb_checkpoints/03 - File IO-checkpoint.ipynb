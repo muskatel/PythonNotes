{
 "cells": [
  {
   "cell_type": "markdown",
   "metadata": {},
   "source": [
    "# FILE IO \n",
    "\n",
    "We're going to load csv file and convert it to a usuable data frame.\n",
    "\n",
    "Specifically, we're using the Iris flower data, found here: https://archive.ics.uci.edu/ml/datasets/iris"
   ]
  },
  {
   "cell_type": "code",
   "execution_count": 1,
   "metadata": {
    "collapsed": true
   },
   "outputs": [],
   "source": [
    "import pandas as pd"
   ]
  },
  {
   "cell_type": "markdown",
   "metadata": {},
   "source": [
    "This \"import as\" is a convention. \n",
    "\n",
    "You will encounter many of these, it is best to stick to them if you wish to maintain readable code.\n",
    "\n",
    "As an example, SciPy recommends the following imports:"
   ]
  },
  {
   "cell_type": "code",
   "execution_count": 2,
   "metadata": {
    "collapsed": true
   },
   "outputs": [],
   "source": [
    "# We wont actually use these imports now, they are just for reference\n",
    "import numpy as np\n",
    "import matplotlib as mpl\n",
    "import matplotlib.pyplot as plt"
   ]
  },
  {
   "cell_type": "markdown",
   "metadata": {},
   "source": [
    "SciPy reference: https://docs.scipy.org/doc/scipy/reference/tutorial/general.html"
   ]
  },
  {
   "cell_type": "code",
   "execution_count": 3,
   "metadata": {
    "collapsed": true
   },
   "outputs": [],
   "source": [
    "filename = \"iris.data\" \n",
    "df = pd.read_csv(filename, header=None)"
   ]
  },
  {
   "cell_type": "markdown",
   "metadata": {},
   "source": [
    "The .data file that we load is actually a .csv file.\n",
    "\n",
    "\"df\" is another convention, it stands for dataframe.\n",
    "\n",
    "But did it work?"
   ]
  },
  {
   "cell_type": "code",
   "execution_count": 4,
   "metadata": {},
   "outputs": [
    {
     "name": "stdout",
     "output_type": "stream",
     "text": [
      "     0    1    2    3            4\n",
      "0  5.1  3.5  1.4  0.2  Iris-setosa\n",
      "1  4.9  3.0  1.4  0.2  Iris-setosa\n",
      "2  4.7  3.2  1.3  0.2  Iris-setosa\n",
      "3  4.6  3.1  1.5  0.2  Iris-setosa\n",
      "4  5.0  3.6  1.4  0.2  Iris-setosa\n"
     ]
    }
   ],
   "source": [
    "print df.head()"
   ]
  },
  {
   "cell_type": "markdown",
   "metadata": {},
   "source": [
    "Now lets re-load the data with headers this time."
   ]
  },
  {
   "cell_type": "code",
   "execution_count": 5,
   "metadata": {},
   "outputs": [
    {
     "name": "stdout",
     "output_type": "stream",
     "text": [
      "   SepalLength  SepalWidth  PetalLength  PetalWidth      Species\n",
      "0          5.1         3.5          1.4         0.2  Iris-setosa\n",
      "1          4.9         3.0          1.4         0.2  Iris-setosa\n",
      "2          4.7         3.2          1.3         0.2  Iris-setosa\n",
      "3          4.6         3.1          1.5         0.2  Iris-setosa\n",
      "4          5.0         3.6          1.4         0.2  Iris-setosa\n"
     ]
    }
   ],
   "source": [
    "df = pd.read_csv(filename, names=['SepalLength','SepalWidth','PetalLength','PetalWidth','Species'])\n",
    "print df.head()"
   ]
  },
  {
   "cell_type": "markdown",
   "metadata": {},
   "source": [
    "We can now access these columns directly."
   ]
  },
  {
   "cell_type": "code",
   "execution_count": 6,
   "metadata": {},
   "outputs": [
    {
     "name": "stdout",
     "output_type": "stream",
     "text": [
      "First 5 rows of the Petal Length column\n",
      "\n",
      "0    1.4\n",
      "1    1.4\n",
      "2    1.3\n",
      "3    1.5\n",
      "4    1.4\n",
      "Name: PetalLength, dtype: float64\n",
      "\n",
      "\n",
      "Versicolor with Sepal Length over 6.5mm\n",
      "\n",
      "    SepalLength  SepalWidth  PetalLength  PetalWidth          Species\n",
      "50          7.0         3.2          4.7         1.4  Iris-versicolor\n",
      "52          6.9         3.1          4.9         1.5  Iris-versicolor\n",
      "58          6.6         2.9          4.6         1.3  Iris-versicolor\n",
      "65          6.7         3.1          4.4         1.4  Iris-versicolor\n",
      "75          6.6         3.0          4.4         1.4  Iris-versicolor\n",
      "76          6.8         2.8          4.8         1.4  Iris-versicolor\n",
      "77          6.7         3.0          5.0         1.7  Iris-versicolor\n",
      "86          6.7         3.1          4.7         1.5  Iris-versicolor\n"
     ]
    }
   ],
   "source": [
    "print \"First 5 rows of the Petal Length column\\n\"\n",
    "print df.PetalLength[0:5]\n",
    "print \"\\n\\nVersicolor with Sepal Length over 6.5mm\\n\"\n",
    "print df[(df.Species == \"Iris-versicolor\") & (df.SepalLength > 6.5) ][0:10] "
   ]
  },
  {
   "cell_type": "markdown",
   "metadata": {},
   "source": [
    "If we were to load from an Excel file we could use a similar function, also found in Pandas.\n",
    "\n",
    "(We use the sample xlxs data file found here: http://www.contextures.com/xlSampleData01.html)"
   ]
  },
  {
   "cell_type": "code",
   "execution_count": 7,
   "metadata": {},
   "outputs": [
    {
     "name": "stdout",
     "output_type": "stream",
     "text": [
      "   OrderDate   Region      Rep    Item  Units  Unit Cost   Total\n",
      "0 2016-01-06     East    Jones  Pencil     95       1.99  189.05\n",
      "1 2016-01-23  Central   Kivell  Binder     50      19.99  999.50\n",
      "2 2016-02-09  Central  Jardine  Pencil     36       4.99  179.64\n",
      "3 2016-02-26  Central     Gill     Pen     27      19.99  539.73\n",
      "4 2016-03-15     West  Sorvino  Pencil     56       2.99  167.44\n"
     ]
    }
   ],
   "source": [
    "filename = \"sampledata.xlsx\" # This code will work with .xls or .xlsx files\n",
    "xl = pd.ExcelFile(filename)\n",
    "df = xl.parse(\"SalesOrders\") # The name of the sheet we want to open\n",
    "print df.head()"
   ]
  }
 ],
 "metadata": {
  "kernelspec": {
   "display_name": "Python 2",
   "language": "python",
   "name": "python2"
  },
  "language_info": {
   "codemirror_mode": {
    "name": "ipython",
    "version": 2
   },
   "file_extension": ".py",
   "mimetype": "text/x-python",
   "name": "python",
   "nbconvert_exporter": "python",
   "pygments_lexer": "ipython2",
   "version": "2.7.13"
  }
 },
 "nbformat": 4,
 "nbformat_minor": 2
}
