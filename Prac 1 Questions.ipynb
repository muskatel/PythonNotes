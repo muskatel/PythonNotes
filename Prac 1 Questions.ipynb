{
 "cells": [
  {
   "cell_type": "markdown",
   "metadata": {},
   "source": [
    "# Consider the following program and outputs:"
   ]
  },
  {
   "cell_type": "code",
   "execution_count": 1,
   "metadata": {
    "collapsed": true
   },
   "outputs": [],
   "source": [
    "marks = {}\n",
    "# marks is a dictionary with the\n",
    "# Stundent number as key, with a \n",
    "# set of three test results as the value\n",
    "marks[\"18001\"] = (80, 75, 45)\n",
    "marks[\"18541\"] = (32, 51, 89)\n",
    "marks[\"18042\"] = (75, 74, 73)\n",
    "marks[\"18999\"] = (23, 84, 89)\n",
    "marks[\"18720\"] = (52, 61, 43)\n",
    "\n",
    "names = {}\n",
    "# marks is a dictionary with the\n",
    "# Stundent number as key, and  \n",
    "# the student's firstname as the value\n",
    "names[\"18001\"] = \"Joe\"\n",
    "names[\"18541\"] = \"Vuyo\"\n",
    "names[\"18042\"] = \"George\"\n",
    "names[\"18999\"] = \"Kabelo\"\n",
    "names[\"18720\"] = \"Ulrik\""
   ]
  },
  {
   "cell_type": "code",
   "execution_count": 2,
   "metadata": {},
   "outputs": [
    {
     "data": {
      "text/plain": [
       "{'18001': (80, 75, 45),\n",
       " '18042': (75, 74, 73),\n",
       " '18541': (32, 51, 89),\n",
       " '18720': (52, 61, 43),\n",
       " '18999': (23, 84, 89)}"
      ]
     },
     "execution_count": 2,
     "metadata": {},
     "output_type": "execute_result"
    }
   ],
   "source": [
    "marks"
   ]
  },
  {
   "cell_type": "code",
   "execution_count": 3,
   "metadata": {},
   "outputs": [
    {
     "name": "stdout",
     "output_type": "stream",
     "text": [
      "18042 : 74\n",
      "18541 : 57\n",
      "18001 : 66\n",
      "18720 : 52\n",
      "18999 : 65\n"
     ]
    }
   ],
   "source": [
    "for student, results in marks.items():\n",
    "    print student, \":\", sum(results)/3"
   ]
  },
  {
   "cell_type": "code",
   "execution_count": 4,
   "metadata": {},
   "outputs": [
    {
     "data": {
      "text/plain": [
       "5"
      ]
     },
     "execution_count": 4,
     "metadata": {},
     "output_type": "execute_result"
    }
   ],
   "source": [
    "len(marks)"
   ]
  },
  {
   "cell_type": "code",
   "execution_count": 5,
   "metadata": {},
   "outputs": [
    {
     "data": {
      "text/plain": [
       "61"
      ]
     },
     "execution_count": 5,
     "metadata": {},
     "output_type": "execute_result"
    }
   ],
   "source": [
    "marks['18720'][1]"
   ]
  },
  {
   "cell_type": "code",
   "execution_count": 6,
   "metadata": {},
   "outputs": [
    {
     "data": {
      "text/plain": [
       "{'18001': 'Joe',\n",
       " '18042': 'George',\n",
       " '18541': 'Vuyo',\n",
       " '18720': 'Ulrik',\n",
       " '18999': 'Kabelo'}"
      ]
     },
     "execution_count": 6,
     "metadata": {},
     "output_type": "execute_result"
    }
   ],
   "source": [
    "names"
   ]
  },
  {
   "cell_type": "code",
   "execution_count": 7,
   "metadata": {},
   "outputs": [
    {
     "name": "stdout",
     "output_type": "stream",
     "text": [
      "18541\n"
     ]
    }
   ],
   "source": [
    "for stdNum, name in names.items():\n",
    "    if name == \"Vuyo\":\n",
    "        print stdNum"
   ]
  },
  {
   "cell_type": "code",
   "execution_count": 8,
   "metadata": {},
   "outputs": [
    {
     "name": "stdout",
     "output_type": "stream",
     "text": [
      "George (75, 74, 73) 74.0\n",
      "Vuyo (32, 51, 89) 57.3333333333\n",
      "Joe (80, 75, 45) 66.6666666667\n",
      "Ulrik (52, 61, 43) 52.0\n",
      "Kabelo (23, 84, 89) 65.3333333333\n"
     ]
    }
   ],
   "source": [
    "for stdNum, name in names.items():\n",
    "    print name, marks[stdNum], sum(marks[stdNum])/3.0"
   ]
  },
  {
   "cell_type": "markdown",
   "metadata": {},
   "source": [
    "# Answer the following by providing source code:"
   ]
  },
  {
   "cell_type": "markdown",
   "metadata": {},
   "source": [
    "### Question 1: \n",
    "What version of Python are you running?"
   ]
  },
  {
   "cell_type": "markdown",
   "metadata": {},
   "source": [
    "### Question 2: \n",
    "Output the third test mark for the student with student number \"18999\"."
   ]
  },
  {
   "cell_type": "markdown",
   "metadata": {},
   "source": [
    "### Question 3: \n",
    "Output the name of the student with student number \"18999\"."
   ]
  },
  {
   "cell_type": "markdown",
   "metadata": {},
   "source": [
    "### Question 4: \n",
    "How would we check that we have a and equal number of names and marks?"
   ]
  },
  {
   "cell_type": "markdown",
   "metadata": {},
   "source": [
    "### Question 5:\n",
    "Calculate the class average to two decimal places."
   ]
  },
  {
   "cell_type": "markdown",
   "metadata": {},
   "source": [
    "### Question 6:\n",
    "Print a list of student names who achieved above average results"
   ]
  },
  {
   "cell_type": "markdown",
   "metadata": {},
   "source": [
    "### Question 7:\n",
    "How would you modify the inital data structures to accomodate storing the last names of students?"
   ]
  },
  {
   "cell_type": "markdown",
   "metadata": {
    "collapsed": true
   },
   "source": [
    "### Question 8:\n",
    "How does you answer to question 7 affect you previous answer?\n",
    "\n",
    "You may answer with source code and/or a discussion."
   ]
  }
 ],
 "metadata": {
  "kernelspec": {
   "display_name": "Python 2",
   "language": "python",
   "name": "python2"
  },
  "language_info": {
   "codemirror_mode": {
    "name": "ipython",
    "version": 2
   },
   "file_extension": ".py",
   "mimetype": "text/x-python",
   "name": "python",
   "nbconvert_exporter": "python",
   "pygments_lexer": "ipython2",
   "version": "2.7.13"
  }
 },
 "nbformat": 4,
 "nbformat_minor": 2
}
